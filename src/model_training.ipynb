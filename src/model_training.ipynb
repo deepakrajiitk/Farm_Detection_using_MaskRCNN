{
 "cells": [
  {
   "cell_type": "markdown",
   "metadata": {},
   "source": [
    "### Importing Libraries and Defining Paths"
   ]
  },
  {
   "cell_type": "code",
   "execution_count": null,
   "metadata": {
    "vscode": {
     "languageId": "python"
    }
   },
   "outputs": [],
   "source": [
    "from warnings import filterwarnings\n",
    "filterwarnings(action='ignore', category=DeprecationWarning, message='`np.bool` is a deprecated alias')\n",
    "filterwarnings('ignore')"
   ]
  },
  {
   "cell_type": "code",
   "execution_count": null,
   "metadata": {
    "vscode": {
     "languageId": "python"
    }
   },
   "outputs": [],
   "source": [
    "import os\n",
    "import sys\n",
    "import random\n",
    "import math\n",
    "import re\n",
    "import time\n",
    "import numpy as np\n",
    "import cv2\n",
    "import matplotlib\n",
    "import fiona \n",
    "from shapely.geometry import shape, box\n",
    "import rasterio\n",
    "from PIL import Image, ImageDraw\n",
    "import tensorflow as tf\n",
    "import imgaug.augmenters as iaa\n",
    "import matplotlib.pyplot as plt\n",
    "%matplotlib inline \n",
    "from patchify import patchify, unpatchify\n",
    "from shapely.geometry import Polygon, MultiPolygon\n",
    "import geopandas as gpd\n",
    "import copy"
   ]
  },
  {
   "cell_type": "code",
   "execution_count": null,
   "metadata": {
    "vscode": {
     "languageId": "python"
    }
   },
   "outputs": [],
   "source": [
    "# Root directory of the project\n",
    "ROOT_DIR = os.path.abspath(\"../\")\n",
    "\n",
    "# Import Mask RCNN\n",
    "sys.path.append(ROOT_DIR)  # To find local version of the library\n",
    "sys.path.append(os.path.join(ROOT_DIR, \"mrcnn\"))"
   ]
  },
  {
   "cell_type": "code",
   "execution_count": null,
   "metadata": {
    "vscode": {
     "languageId": "python"
    }
   },
   "outputs": [],
   "source": [
    "from mrcnn.config import Config\n",
    "from mrcnn import utils\n",
    "import mrcnn.model as modellib\n",
    "from mrcnn import visualize\n",
    "from mrcnn.model import log"
   ]
  },
  {
   "cell_type": "code",
   "execution_count": null,
   "metadata": {
    "vscode": {
     "languageId": "python"
    }
   },
   "outputs": [],
   "source": [
    "# Directory to save logs and trained model\n",
    "MODEL_DIR = os.path.join(ROOT_DIR, \"logs\")\n",
    "\n",
    "DATASET_DIR = os.path.join(ROOT_DIR, \"Dataset\")\n",
    "\n",
    "# Local path to trained weights file\n",
    "COCO_MODEL_PATH = \"../models/mask_rcnn_coco.h5\"\n",
    "# Download COCO trained weights from Releases if needed\n",
    "if not os.path.exists(COCO_MODEL_PATH):\n",
    "    utils.download_trained_weights(COCO_MODEL_PATH)"
   ]
  },
  {
   "cell_type": "code",
   "execution_count": null,
   "metadata": {
    "vscode": {
     "languageId": "python"
    }
   },
   "outputs": [],
   "source": [
    "gpus = tf.config.experimental.list_physical_devices('GPU')"
   ]
  },
  {
   "cell_type": "code",
   "execution_count": null,
   "metadata": {
    "vscode": {
     "languageId": "python"
    }
   },
   "outputs": [],
   "source": [
    "# Check if GPU is available\n",
    "tf.config.list_physical_devices('GPU')"
   ]
  },
  {
   "cell_type": "markdown",
   "metadata": {},
   "source": [
    "### Dataset Preparation and Loading"
   ]
  },
  {
   "cell_type": "code",
   "execution_count": null,
   "metadata": {
    "vscode": {
     "languageId": "python"
    }
   },
   "outputs": [],
   "source": [
    "class BuildingDataset(utils.Dataset):\n",
    "     \n",
    "    def load_dataset(self, dataset_dir, start=1, end=400):\n",
    "        \"\"\"Generate the requested number of synthetic images.\n",
    "        count: number of images to generate.\n",
    "        height, width: the size of the generated images.\n",
    "        \"\"\"\n",
    "        # Add classes\n",
    "        self.add_class(\"BuildingDataset\", 1, \"building\")\n",
    "\n",
    "        # define data locations for images and annotations\n",
    "        images_dir = os.path.join(dataset_dir, \"cropped_png_files/\")\n",
    "        annotations_dir = os.path.join(dataset_dir, \"annotations/\")\n",
    "\n",
    "\n",
    "        for place_dir in os.listdir(images_dir)[start:end]:\n",
    "            place_path = os.path.join(images_dir, place_dir)\n",
    "            if os.path.isdir(place_path):\n",
    "                annotation_file = f\"{place_dir}_Builtup_Area.shp\"\n",
    "                annotation_path = os.path.join(annotations_dir, annotation_file)\n",
    "\n",
    "                for image_dir in os.listdir(place_path):\n",
    "                    if image_dir.lower().endswith('.png'):\n",
    "                        image_dir_path = os.path.join(place_path, image_dir)\n",
    "                        tif_dir_path = image_dir_path.replace(\"cropped_png_files\", \"cropped_tif_files\")[:-4] + \".tif\"\n",
    "                        self.add_image('BuildingDataset', image_id=image_dir, path=image_dir_path, annotation=annotation_path, tif_path = tif_dir_path)\n",
    "\n",
    "    def get_tif_bounding_box(self, tif_dataset):\n",
    "        bounds = tif_dataset.bounds\n",
    "        min_x, min_y, max_x, max_y = bounds.left, bounds.bottom, bounds.right, bounds.top\n",
    "        return (min_x, min_y, max_x, max_y)\n",
    "\n",
    "    def get_polygons(self, shp_path):\n",
    "        # Open the shapefile and read the polygons:\n",
    "        polygons = []\n",
    "        with fiona.open(shp_path, \"r\") as shapefile:\n",
    "            for feature in shapefile:\n",
    "                geometry = shape(feature[\"geometry\"])\n",
    "                if(geometry.geom_type==\"MultiPolygon\"):\n",
    "                    continue\n",
    "                polygons.append((geometry, feature[\"properties\"]))\n",
    "        return polygons\n",
    "\n",
    "    def get_filtered_polygons(self, polygons, tif_dataset):\n",
    "        # Get the bounding box of the TIF file\n",
    "        tif_bbox = self.get_tif_bounding_box(tif_dataset)\n",
    "        \n",
    "        # Filter the polygons based on the intersection with the TIF file's bounding box:\n",
    "        filtered_polygons = []\n",
    "        for polygon, properties in polygons:\n",
    "            polygon_bbox = polygon.bounds\n",
    "            if box(*tif_bbox).intersects(box(*polygon_bbox)):\n",
    "                filtered_polygons.append(polygon)\n",
    "\n",
    "        return filtered_polygons\n",
    "    \n",
    "    def fill_between(self, polygon, height, width):\n",
    "        \"\"\"\n",
    "        Returns: a bool array\n",
    "        \"\"\"\n",
    "        img = Image.new('1', (width, height), False)\n",
    "        ImageDraw.Draw(img).polygon(polygon, outline=True, fill=True)\n",
    "        mask = np.array(img)\n",
    "\n",
    "        return mask\n",
    "    \n",
    "    def load_mask(self, image_id):\n",
    "        tif_file_path = self.image_info[image_id]['tif_path']\n",
    "        shp_file_path = self.image_info[image_id]['annotation']\n",
    "        \n",
    "        tif_dataset = rasterio.open(tif_file_path)\n",
    "        height = tif_dataset.height\n",
    "        width = tif_dataset.width\n",
    "        transform = tif_dataset.transform\n",
    "\n",
    "        polygons = self.get_polygons(shp_file_path)\n",
    "        filtered_polygons = self.get_filtered_polygons(polygons, tif_dataset)\n",
    "        \n",
    "        masks = np.zeros((height, width, len(filtered_polygons)), dtype=np.uint8)\n",
    "\n",
    "        for idx, polygon in enumerate(filtered_polygons):\n",
    "            coordinates = list()\n",
    "            for point in polygon.exterior.coords:\n",
    "                x, y = point\n",
    "                pixel_x, pixel_y = ~transform * (x, y)\n",
    "                pixel_x = width - 1 if pixel_x > width else pixel_x\n",
    "                pixel_y = height - 1 if pixel_y > height else pixel_y\n",
    "                coordinates.append((pixel_x, pixel_y))\n",
    "            \n",
    "            mask = self.fill_between(coordinates, height, width)\n",
    "            masks[:, :, idx] = mask\n",
    "        \n",
    "        class_ids = np.asarray([1]*masks.shape[2])\n",
    "\n",
    "        return masks.astype(np.bool), class_ids.astype(np.int32)"
   ]
  },
  {
   "cell_type": "code",
   "execution_count": null,
   "metadata": {
    "vscode": {
     "languageId": "python"
    }
   },
   "outputs": [],
   "source": [
    "# Training dataset\n",
    "dataset_train = BuildingDataset()\n",
    "dataset_train.load_dataset(DATASET_DIR, 0, 58)\n",
    "dataset_train.prepare()"
   ]
  },
  {
   "cell_type": "code",
   "execution_count": null,
   "metadata": {
    "vscode": {
     "languageId": "python"
    }
   },
   "outputs": [],
   "source": [
    "# Validation dataset\n",
    "dataset_val = BuildingDataset()\n",
    "dataset_val.load_dataset(DATASET_DIR, 58, 65)\n",
    "dataset_val.prepare()"
   ]
  },
  {
   "cell_type": "code",
   "execution_count": null,
   "metadata": {
    "vscode": {
     "languageId": "python"
    }
   },
   "outputs": [],
   "source": [
    "# Validation dataset\n",
    "dataset_test = BuildingDataset()\n",
    "dataset_test.load_dataset(DATASET_DIR, 65, 72)\n",
    "dataset_test.prepare()"
   ]
  },
  {
   "cell_type": "code",
   "execution_count": null,
   "metadata": {
    "vscode": {
     "languageId": "python"
    }
   },
   "outputs": [],
   "source": [
    "# Load and display random samples\n",
    "image_ids = np.random.choice(dataset_train.image_ids,4)\n",
    "for image_id in image_ids:\n",
    "    image = dataset_train.load_image(image_id)\n",
    "    mask, class_ids = dataset_train.load_mask(image_id)\n",
    "    visualize.display_top_masks(image, mask, class_ids, dataset_train.class_names)"
   ]
  },
  {
   "cell_type": "markdown",
   "metadata": {},
   "source": [
    "### Configurations"
   ]
  },
  {
   "cell_type": "code",
   "execution_count": null,
   "metadata": {
    "vscode": {
     "languageId": "python"
    }
   },
   "outputs": [],
   "source": [
    "class TrainingConfig(Config):\n",
    "    NAME = \"BuildingDetection\"\n",
    "    GPU_COUNT = 1\n",
    "    IMAGES_PER_GPU = 4\n",
    "    STEPS_PER_EPOCH = 2770\n",
    "    VALIDATION_STEPS = 234\n",
    "    BACKBONE = \"resnet101\"\n",
    "    NUM_CLASSES = 2 #bulding and background\n",
    "    IMAGE_MAX_DIM = 1024\n",
    "    IMAGE_MIN_DIM = 1024\n",
    "\n",
    "    TRAIN_ROIS_PER_IMAGE = 50\n",
    "    \n",
    "    MAX_GT_INSTANCES = 50\n",
    "    LOSS_WEIGHTS = {\n",
    "        \"rpn_class_loss\": 2.,\n",
    "        \"rpn_bbox_loss\": 1.,\n",
    "        \"mrcnn_class_loss\": 1.,\n",
    "        \"mrcnn_bbox_loss\": 1.,\n",
    "        \"mrcnn_mask_loss\": 10.\n",
    "    }"
   ]
  },
  {
   "cell_type": "code",
   "execution_count": null,
   "metadata": {
    "vscode": {
     "languageId": "python"
    }
   },
   "outputs": [],
   "source": [
    "train_config = TrainingConfig()\n",
    "# train_config.display()"
   ]
  },
  {
   "cell_type": "code",
   "execution_count": null,
   "metadata": {
    "vscode": {
     "languageId": "python"
    }
   },
   "outputs": [],
   "source": [
    "model_train = modellib.MaskRCNN(mode=\"training\", config=train_config, model_dir=MODEL_DIR)"
   ]
  },
  {
   "cell_type": "markdown",
   "metadata": {},
   "source": [
    "### Training"
   ]
  },
  {
   "cell_type": "code",
   "execution_count": null,
   "metadata": {
    "vscode": {
     "languageId": "python"
    }
   },
   "outputs": [],
   "source": [
    "# Which weights to start with?\n",
    "init_with = \"last\"  # imagenet, coco, or last\n",
    "\n",
    "if init_with == \"imagenet\":\n",
    "    model_train.load_weights(model_train.get_imagenet_weights(), by_name=True)\n",
    "elif init_with == \"coco\":\n",
    "    # Load weights trained on MS COCO, but skip layers that\n",
    "    # are different due to the different number of classes\n",
    "    # See README for instructions to download the COCO weights\n",
    "    model_train.load_weights(COCO_MODEL_PATH, by_name=True,\n",
    "                       exclude=[\"mrcnn_class_logits\", \"mrcnn_bbox_fc\", \n",
    "                                \"mrcnn_bbox\", \"mrcnn_mask\"])\n",
    "elif init_with == \"last\":\n",
    "    # Load the last model you trained and continue training\n",
    "    model_train.load_weights(model_train.find_last(), by_name=True)\n",
    "else:\n",
    "    model_weight = \"../logs/mask_rcnn_buildingdetection_0006.h5\"\n",
    "    model_train.load_weights(model_weight, by_name = True)"
   ]
  },
  {
   "cell_type": "code",
   "execution_count": null,
   "metadata": {
    "vscode": {
     "languageId": "python"
    }
   },
   "outputs": [],
   "source": [
    "# mean_average_precision_callback = modellib.MeanAveragePrecisionCallback(model_train, model_inference, dataset_val, calculate_map_at_every_X_epoch=1, verbose=1)"
   ]
  },
  {
   "cell_type": "code",
   "execution_count": null,
   "metadata": {
    "vscode": {
     "languageId": "python"
    }
   },
   "outputs": [],
   "source": [
    "image_augmenter = iaa.Sequential([\n",
    "    iaa.Fliplr(0.5),             # Horizontal flips with 50% probability\n",
    "    iaa.Flipud(0.5),             # Vertical flips with 50% probability\n",
    "    iaa.Sometimes(0.5, iaa.Affine(rotate=(90, 90))), \n",
    "    iaa.Sometimes(0.5, iaa.Affine(rotate=(180, 180))),\n",
    "    iaa.Sometimes(0.5, iaa.Affine(rotate=(2700, 270))),\n",
    "    iaa.Sometimes(0.5, iaa.GaussianBlur(sigma=(0, 0.5))),  # Random Gaussian blur\n",
    "])"
   ]
  },
  {
   "cell_type": "code",
   "execution_count": null,
   "metadata": {
    "vscode": {
     "languageId": "python"
    }
   },
   "outputs": [],
   "source": [
    "# Fine tuning all layers\n",
    "model_train.train(dataset_train, dataset_val, \n",
    "            learning_rate=train_config.LEARNING_RATE,\n",
    "            epochs=200, \n",
    "            layers=\"all\", augmentation = image_augmenter)"
   ]
  },
  {
   "cell_type": "code",
   "execution_count": null,
   "metadata": {
    "vscode": {
     "languageId": "python"
    }
   },
   "outputs": [],
   "source": [
    "# Save weights\n",
    "# Typically not needed because callbacks save after every epoch\n",
    "# Uncomment to save manually\n",
    "# model_path = os.path.join(MODEL_DIR, \"mask_rcnn_buildingdetection_00008.h5\")\n",
    "# model_train.keras_model.save_weights(model_path)"
   ]
  }
 ],
 "metadata": {
  "kernelspec": {
   "display_name": "mrcnn_kernel",
   "language": "python",
   "name": "mrcnn_kernel"
  },
  "orig_nbformat": 4
 },
 "nbformat": 4,
 "nbformat_minor": 2
}
