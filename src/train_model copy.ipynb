{
 "cells": [
  {
   "cell_type": "markdown",
   "metadata": {},
   "source": [
    "### Importing Libraries and Defining Paths"
   ]
  },
  {
   "cell_type": "code",
   "execution_count": null,
   "metadata": {},
   "outputs": [],
   "source": [
    "from warnings import filterwarnings\n",
    "filterwarnings(action='ignore', category=DeprecationWarning, message='`np.bool` is a deprecated alias')\n",
    "filterwarnings('ignore')"
   ]
  },
  {
   "cell_type": "code",
   "execution_count": null,
   "metadata": {},
   "outputs": [],
   "source": [
    "import os\n",
    "import sys\n",
    "import random\n",
    "import math\n",
    "import re\n",
    "import time\n",
    "import numpy as np\n",
    "import cv2\n",
    "import matplotlib\n",
    "import fiona \n",
    "from shapely.geometry import shape, box\n",
    "import rasterio\n",
    "from PIL import Image, ImageDraw\n",
    "Image.MAX_IMAGE_PIXELS = None\n",
    "import tensorflow as tf\n",
    "import imgaug.augmenters as iaa\n",
    "import matplotlib.pyplot as plt\n",
    "%matplotlib inline \n",
    "from patchify import patchify, unpatchify\n",
    "from shapely.geometry import Polygon, MultiPolygon\n",
    "import geopandas as gpd\n",
    "import copy"
   ]
  },
  {
   "cell_type": "code",
   "execution_count": null,
   "metadata": {},
   "outputs": [],
   "source": [
    "# Root directory of the project\n",
    "ROOT_DIR = os.path.abspath(\"../\")\n",
    "\n",
    "# Import Mask RCNN\n",
    "sys.path.append(ROOT_DIR)  # To find local version of the library\n",
    "sys.path.append(os.path.join(ROOT_DIR, \"mrcnn\"))"
   ]
  },
  {
   "cell_type": "code",
   "execution_count": null,
   "metadata": {},
   "outputs": [],
   "source": [
    "from mrcnn.config import Config\n",
    "from mrcnn import utils\n",
    "import mrcnn.model as modellib\n",
    "from mrcnn import visualize\n",
    "from mrcnn.model import log"
   ]
  },
  {
   "cell_type": "code",
   "execution_count": null,
   "metadata": {},
   "outputs": [],
   "source": [
    "# Directory to save logs and trained model\n",
    "MODEL_DIR = os.path.join(ROOT_DIR, \"logs\")\n",
    "\n",
    "DATASET_DIR = os.path.join(ROOT_DIR, \"Dataset\")\n",
    "\n",
    "# Local path to trained weights file\n",
    "COCO_MODEL_PATH = \"../models/mask_rcnn_coco.h5\"\n",
    "# Download COCO trained weights from Releases if needed\n",
    "if not os.path.exists(COCO_MODEL_PATH):\n",
    "    utils.download_trained_weights(COCO_MODEL_PATH)"
   ]
  },
  {
   "cell_type": "code",
   "execution_count": null,
   "metadata": {},
   "outputs": [],
   "source": [
    "# Check if GPU is available\n",
    "tf.config.list_physical_devices('GPU')"
   ]
  },
  {
   "cell_type": "markdown",
   "metadata": {},
   "source": [
    "### Dataset Preparation and Loading"
   ]
  },
  {
   "cell_type": "code",
   "execution_count": null,
   "metadata": {},
   "outputs": [],
   "source": [
    "class BuildingDataset(utils.Dataset):\n",
    "     \n",
    "    def load_dataset(self, dataset_dir, start=1, end=400):\n",
    "        \"\"\"Generate the requested number of synthetic images.\n",
    "        count: number of images to generate.\n",
    "        height, width: the size of the generated images.\n",
    "        \"\"\"\n",
    "        # Add classes\n",
    "        self.add_class(\"BuildingDataset\", 1, \"building\")\n",
    "\n",
    "        # define data locations for images and annotations\n",
    "        images_dir = os.path.join(dataset_dir, \"cropped_png_files/\")\n",
    "        annotations_dir = os.path.join(dataset_dir, \"annotations/\")\n",
    "\n",
    "\n",
    "        for place_dir in os.listdir(images_dir)[start:end]:\n",
    "            place_path = os.path.join(images_dir, place_dir)\n",
    "            if os.path.isdir(place_path):\n",
    "                annotation_file = f\"{place_dir}_Builtup_Area.shp\"\n",
    "                annotation_path = os.path.join(annotations_dir, annotation_file)\n",
    "\n",
    "                for image_dir in os.listdir(place_path):\n",
    "                    if image_dir.lower().endswith('.png'):\n",
    "                        image_dir_path = os.path.join(place_path, image_dir)\n",
    "                        tif_dir_path = image_dir_path.replace(\"cropped_png_files\", \"cropped_tif_files\")[:-4] + \".tif\"\n",
    "                        self.add_image('BuildingDataset', image_id=image_dir, path=image_dir_path, annotation=annotation_path, tif_path = tif_dir_path)\n",
    "\n",
    "    def get_tif_bounding_box(self, tif_dataset):\n",
    "        bounds = tif_dataset.bounds\n",
    "        min_x, min_y, max_x, max_y = bounds.left, bounds.bottom, bounds.right, bounds.top\n",
    "        return (min_x, min_y, max_x, max_y)\n",
    "\n",
    "    def get_polygons(self, shp_path):\n",
    "        # Open the shapefile and read the polygons:\n",
    "        polygons = []\n",
    "        with fiona.open(shp_path, \"r\") as shapefile:\n",
    "            for feature in shapefile:\n",
    "                geometry = shape(feature[\"geometry\"])\n",
    "                if(geometry.geom_type==\"MultiPolygon\"):\n",
    "                    continue\n",
    "                polygons.append((geometry, feature[\"properties\"]))\n",
    "        return polygons\n",
    "\n",
    "    def get_filtered_polygons(self, polygons, tif_dataset):\n",
    "        # Get the bounding box of the TIF file\n",
    "        tif_bbox = self.get_tif_bounding_box(tif_dataset)\n",
    "        \n",
    "        # Filter the polygons based on the intersection with the TIF file's bounding box:\n",
    "        filtered_polygons = []\n",
    "        for polygon, properties in polygons:\n",
    "            polygon_bbox = polygon.bounds\n",
    "            if box(*tif_bbox).intersects(box(*polygon_bbox)):\n",
    "                filtered_polygons.append(polygon)\n",
    "\n",
    "        return filtered_polygons\n",
    "    \n",
    "    def fill_between(self, polygon, height, width):\n",
    "        \"\"\"\n",
    "        Returns: a bool array\n",
    "        \"\"\"\n",
    "        img = Image.new('1', (width, height), False)\n",
    "        ImageDraw.Draw(img).polygon(polygon, outline=True, fill=True)\n",
    "        mask = np.array(img)\n",
    "\n",
    "        return mask\n",
    "    \n",
    "    def load_mask(self, image_id):\n",
    "        tif_file_path = self.image_info[image_id]['tif_path']\n",
    "        shp_file_path = self.image_info[image_id]['annotation']\n",
    "        \n",
    "        tif_dataset = rasterio.open(tif_file_path)\n",
    "        height = tif_dataset.height\n",
    "        width = tif_dataset.width\n",
    "        transform = tif_dataset.transform\n",
    "\n",
    "        polygons = self.get_polygons(shp_file_path)\n",
    "        filtered_polygons = self.get_filtered_polygons(polygons, tif_dataset)\n",
    "        \n",
    "        masks = np.zeros((height, width, len(filtered_polygons)), dtype=np.uint8)\n",
    "\n",
    "        for idx, polygon in enumerate(filtered_polygons):\n",
    "            coordinates = list()\n",
    "            for point in polygon.exterior.coords:\n",
    "                x, y = point\n",
    "                pixel_x, pixel_y = ~transform * (x, y)\n",
    "                pixel_x = width - 1 if pixel_x > width else pixel_x\n",
    "                pixel_y = height - 1 if pixel_y > height else pixel_y\n",
    "                coordinates.append((pixel_x, pixel_y))\n",
    "            \n",
    "            mask = self.fill_between(coordinates, height, width)\n",
    "            masks[:, :, idx] = mask\n",
    "        \n",
    "        class_ids = np.asarray([1]*masks.shape[2])\n",
    "\n",
    "        return masks.astype(np.bool), class_ids.astype(np.int32)"
   ]
  },
  {
   "cell_type": "code",
   "execution_count": null,
   "metadata": {},
   "outputs": [],
   "source": [
    "# Training dataset\n",
    "dataset_train = BuildingDataset()\n",
    "dataset_train.load_dataset(DATASET_DIR, 0, 58)\n",
    "dataset_train.prepare()"
   ]
  },
  {
   "cell_type": "code",
   "execution_count": null,
   "metadata": {},
   "outputs": [],
   "source": [
    "len(dataset_train.image_ids)"
   ]
  },
  {
   "cell_type": "code",
   "execution_count": null,
   "metadata": {},
   "outputs": [],
   "source": [
    "# Validation dataset\n",
    "dataset_val = BuildingDataset()\n",
    "dataset_val.load_dataset(DATASET_DIR, 58, 65)\n",
    "dataset_val.prepare()"
   ]
  },
  {
   "cell_type": "code",
   "execution_count": null,
   "metadata": {},
   "outputs": [],
   "source": [
    "# Validation dataset\n",
    "dataset_test = BuildingDataset()\n",
    "dataset_test.load_dataset(DATASET_DIR, 65, 72)\n",
    "dataset_test.prepare()"
   ]
  },
  {
   "cell_type": "code",
   "execution_count": null,
   "metadata": {},
   "outputs": [],
   "source": [
    "# Load and display random samples\n",
    "image_ids = np.random.choice(dataset_train.image_ids,4)\n",
    "for image_id in image_ids:\n",
    "    image = dataset_train.load_image(image_id)\n",
    "    mask, class_ids = dataset_train.load_mask(image_id)\n",
    "    visualize.display_top_masks(image, mask, class_ids, dataset_train.class_names)"
   ]
  },
  {
   "cell_type": "markdown",
   "metadata": {},
   "source": [
    "### Configurations"
   ]
  },
  {
   "cell_type": "code",
   "execution_count": null,
   "metadata": {},
   "outputs": [],
   "source": [
    "class TrainingConfig(Config):\n",
    "    NAME = \"BuildingDetection\"\n",
    "    GPU_COUNT = 1\n",
    "    IMAGES_PER_GPU = 4\n",
    "    STEPS_PER_EPOCH = 2770\n",
    "    VALIDATION_STEPS = 234\n",
    "    BACKBONE = \"resnet101\"\n",
    "    NUM_CLASSES = 2 #bulding and background\n",
    "    IMAGE_MAX_DIM = 1024\n",
    "    IMAGE_MIN_DIM = 1024\n",
    "\n",
    "    TRAIN_ROIS_PER_IMAGE = 50\n",
    "    \n",
    "    MAX_GT_INSTANCES = 50\n",
    "    LOSS_WEIGHTS = {\n",
    "        \"rpn_class_loss\": 2.,\n",
    "        \"rpn_bbox_loss\": 1.,\n",
    "        \"mrcnn_class_loss\": 1.,\n",
    "        \"mrcnn_bbox_loss\": 1.,\n",
    "        \"mrcnn_mask_loss\": 10.\n",
    "    }"
   ]
  },
  {
   "cell_type": "code",
   "execution_count": null,
   "metadata": {},
   "outputs": [],
   "source": [
    "train_config = TrainingConfig()\n",
    "# train_config.display()"
   ]
  },
  {
   "cell_type": "code",
   "execution_count": null,
   "metadata": {},
   "outputs": [],
   "source": [
    "class InferenceConfig(TrainingConfig):\n",
    "    GPU_COUNT = 1\n",
    "    IMAGES_PER_GPU = 1\n",
    "    DETECTION_MIN_CONFIDENCE = 0.9\n",
    "\n",
    "inference_config = InferenceConfig()"
   ]
  },
  {
   "cell_type": "code",
   "execution_count": null,
   "metadata": {},
   "outputs": [],
   "source": [
    "model_train = modellib.MaskRCNN(mode=\"training\", config=train_config, model_dir=MODEL_DIR)"
   ]
  },
  {
   "cell_type": "code",
   "execution_count": null,
   "metadata": {},
   "outputs": [],
   "source": [
    "model_inference = modellib.MaskRCNN(mode=\"inference\", config=inference_config, model_dir=MODEL_DIR)"
   ]
  },
  {
   "cell_type": "markdown",
   "metadata": {},
   "source": [
    "### Inference"
   ]
  },
  {
   "cell_type": "code",
   "execution_count": null,
   "metadata": {},
   "outputs": [],
   "source": [
    "# Get path to saved weights\n",
    "# Either set a specific path or find last trained weights\n",
    "model_path = os.path.join(MODEL_DIR, \"buildingdetection20230801T1248/mask_rcnn_buildingdetection_0043.h5\")\n",
    "# model_path = model_inference.find_last()\n",
    "\n",
    "# Load trained weights\n",
    "print(\"Loading weights from \", model_path)\n",
    "model_inference.load_weights(model_path, by_name=True)"
   ]
  },
  {
   "cell_type": "markdown",
   "metadata": {},
   "source": [
    "#### Visualize Results"
   ]
  },
  {
   "cell_type": "code",
   "execution_count": null,
   "metadata": {},
   "outputs": [],
   "source": [
    "# Test on a random image\n",
    "image_id = random.choice(dataset_val.image_ids)\n",
    "# image_id = 890\n",
    "print(image_id)\n",
    "original_image, image_meta, gt_class_id, gt_bbox, gt_mask =\\\n",
    "    modellib.load_image_gt(dataset_val, inference_config, \n",
    "                           image_id)\n",
    "\n",
    "log(\"original_image\", original_image)\n",
    "log(\"image_meta\", image_meta)\n",
    "log(\"gt_class_id\", gt_class_id)\n",
    "log(\"gt_bbox\", gt_bbox)\n",
    "log(\"gt_mask\", gt_mask)\n",
    "\n",
    "visualize.display_instances(original_image, gt_bbox, gt_mask, gt_class_id, \n",
    "                            dataset_train.class_names, figsize=(8, 8))"
   ]
  },
  {
   "cell_type": "code",
   "execution_count": null,
   "metadata": {},
   "outputs": [],
   "source": [
    "results = model_inference.detect([original_image], verbose=1)\n",
    "\n",
    "r = results[0]\n",
    "visualize.display_instances(original_image, r['rois'], r['masks'], r['class_ids'], \n",
    "                            dataset_val.class_names, r['scores'])"
   ]
  },
  {
   "cell_type": "markdown",
   "metadata": {},
   "source": [
    "#### Calculate accuracy"
   ]
  },
  {
   "cell_type": "code",
   "execution_count": null,
   "metadata": {},
   "outputs": [],
   "source": [
    "# Compute VOC-Style mAP @ IoU=0.5\n",
    "image_ids = dataset_test.image_ids\n",
    "APs = []\n",
    "for image_id in image_ids:\n",
    "    # Load image and ground truth data\n",
    "    image, image_meta, gt_class_id, gt_bbox, gt_mask =\\\n",
    "        modellib.load_image_gt(dataset_test, inference_config,\n",
    "                               image_id)\n",
    "    molded_images = np.expand_dims(modellib.mold_image(image, inference_config), 0)\n",
    "    # Run object detection\n",
    "    results = model_inference.detect([image], verbose=0)\n",
    "    r = results[0]\n",
    "    # Compute AP\n",
    "    AP, precisions, recalls, overlaps =\\\n",
    "        utils.compute_ap(gt_bbox, gt_class_id, gt_mask,\n",
    "                         r[\"rois\"], r[\"class_ids\"], r[\"scores\"], r['masks'])\n",
    "    # print(image_id, AP)\n",
    "    if(np.isnan(AP)):\n",
    "        continue\n",
    "    APs.append(AP)\n",
    "    \n",
    "print(\"mAP: \", np.mean(APs))"
   ]
  },
  {
   "cell_type": "markdown",
   "metadata": {},
   "source": [
    "#### Run inference on multiple images and save results"
   ]
  },
  {
   "cell_type": "code",
   "execution_count": null,
   "metadata": {},
   "outputs": [],
   "source": [
    "def save_results(image, masks, boxes, save_dir, scores, show_score = True, show_mask = True, show_polygon = True, eps = 0.001):\n",
    "    N = boxes.shape[0]\n",
    "    colors = visualize.random_colors(N)\n",
    "    image_copy = image.copy()\n",
    "    for i in range(N):\n",
    "        color = colors[i]\n",
    "        mask = masks[:, :, i]\n",
    "\n",
    "        if(show_mask):\n",
    "            image_copy = visualize.apply_mask(image_copy, mask, color)\n",
    "        contours, _ = cv2.findContours(mask.astype('uint8'), cv2.RETR_EXTERNAL, cv2.CHAIN_APPROX_SIMPLE)\n",
    "        for contour in contours:\n",
    "            epsilon = eps * cv2.arcLength(contour, True)\n",
    "            approx = cv2.approxPolyDP(contour, epsilon, closed=False)\n",
    "            cv2.polylines(image_copy, [approx], isClosed=True, color=(0, 0, 0), thickness=2)\n",
    "    cv2.imwrite(save_dir, image_copy[:, :, ::-1])"
   ]
  },
  {
   "cell_type": "code",
   "execution_count": null,
   "metadata": {},
   "outputs": [],
   "source": [
    "def run_and_save(dataset, save_dir=\"../results2/\"):\n",
    "    if not os.path.exists(save_dir):\n",
    "        os.makedirs(save_dir)\n",
    "    for image_id in dataset.image_ids:\n",
    "        original_image, image_meta, gt_class_id, gt_bbox, gt_mask =\\\n",
    "        modellib.load_image_gt(dataset_test, inference_config, \n",
    "                            image_id)\n",
    "        results = model_inference.detect([original_image], verbose=1)\n",
    "        r = results[0]\n",
    "        masks = r['masks']\n",
    "        boxes = r['rois']\n",
    "        scores = r['scores']\n",
    "        save_image_dir = os.path.join(save_dir, dataset.image_info[image_id]['id'])\n",
    "        save_results(original_image, masks, boxes, save_image_dir, scores, show_mask = False, eps = 0.02)"
   ]
  },
  {
   "cell_type": "code",
   "execution_count": null,
   "metadata": {},
   "outputs": [],
   "source": [
    "dataset_test = BuildingDataset()\n",
    "dataset_test.load_dataset(DATASET_DIR, 59,60)\n",
    "dataset_test.prepare()"
   ]
  },
  {
   "cell_type": "code",
   "execution_count": null,
   "metadata": {},
   "outputs": [],
   "source": [
    "len(dataset_test.image_ids)"
   ]
  },
  {
   "cell_type": "code",
   "execution_count": null,
   "metadata": {},
   "outputs": [],
   "source": [
    "run_and_save(dataset_test)"
   ]
  },
  {
   "cell_type": "markdown",
   "metadata": {},
   "source": [
    "#### Run inference on single large image"
   ]
  },
  {
   "cell_type": "code",
   "execution_count": null,
   "metadata": {},
   "outputs": [],
   "source": [
    "def extract_patches(image_path, patch_size, step):\n",
    "    \"\"\"\n",
    "    Extract patches from an image and return the patches along with a padded image.\n",
    "\n",
    "    Args:\n",
    "        image_path (str): Path to the input image.\n",
    "        patch_size (tuple): Size of each patch in (height, width) format.\n",
    "        step (int): Step size for patch extraction.\n",
    "\n",
    "    Returns:\n",
    "        patches (numpy.ndarray): Extracted patches.\n",
    "        padded_image (numpy.ndarray): Padded image to fit patches evenly.\n",
    "    \"\"\"\n",
    "    # Open the image\n",
    "    image = Image.open(image_path)\n",
    "    \n",
    "    # Convert the PIL image to a NumPy array\n",
    "    image_np = np.array(image)\n",
    "    \n",
    "    # Calculate the number of patches in each dimension\n",
    "    num_patches_y = (image_np.shape[0] + patch_size[0] - 1) // patch_size[0]\n",
    "    num_patches_x = (image_np.shape[1] + patch_size[1] - 1) // patch_size[1]\n",
    "    \n",
    "    # Calculate the required padding to fit the patches evenly\n",
    "    pad_y = num_patches_y * patch_size[0] - image_np.shape[0]\n",
    "    pad_x = num_patches_x * patch_size[1] - image_np.shape[1]\n",
    "    \n",
    "    # Pad the image\n",
    "    padded_image = np.pad(image_np, ((0, pad_y), (0, pad_x), (0, 0)), mode='constant')\n",
    "    \n",
    "    # Divide the padded image into patches\n",
    "    patches = patchify(padded_image, patch_size, step=step)\n",
    "    \n",
    "    return patches, padded_image"
   ]
  },
  {
   "cell_type": "code",
   "execution_count": null,
   "metadata": {},
   "outputs": [],
   "source": [
    "def save_patches(patches, save_dir):\n",
    "    \"\"\"\n",
    "    Save patches as images to the specified directory.\n",
    "\n",
    "    Args:\n",
    "        patches (numpy.ndarray): 6D array of patches.\n",
    "        save_dir (str): Directory path to save the patches.\n",
    "    \"\"\"\n",
    "    if not os.path.exists(save_dir):\n",
    "        os.makedirs(save_dir)\n",
    "\n",
    "    for i in range(patches.shape[0]):\n",
    "        for j in range(patches.shape[1]):\n",
    "            patch = patches[i, j, 0, :, :, :]\n",
    "            patch_image = Image.fromarray(patch)\n",
    "            patch_image.save(os.path.join(save_dir, f'patch_{i}_{j}.png'))\n",
    "\n",
    "    print(\"Patches saved successfully.\")"
   ]
  },
  {
   "cell_type": "code",
   "execution_count": null,
   "metadata": {},
   "outputs": [],
   "source": [
    "def is_mask_on_edge(mask, edge_percentage, mask_percentage):\n",
    "    \"\"\"\n",
    "    Check if a mask is present on the edges of an image.\n",
    "\n",
    "    Args:\n",
    "        mask (numpy.ndarray): Binary mask.\n",
    "        edge_percentage (float): Percentage of edges to consider (0 to 1).\n",
    "        mask_percentage (float): Minimum percentage of mask pixels on an edge (0 to 1).\n",
    "\n",
    "    Returns:\n",
    "        bool: True if mask is on any edge, False otherwise.\n",
    "    \"\"\"\n",
    "    height, width = mask.shape\n",
    "    total_mask_area = np.sum(mask)\n",
    "    edge_pixels = int(min(height, width) * edge_percentage)\n",
    "\n",
    "    # Check top edge\n",
    "    if np.sum(mask[:edge_pixels, :]) >= mask_percentage * total_mask_area:\n",
    "        return True\n",
    "    \n",
    "    # Check bottom edge\n",
    "    if np.sum(mask[-edge_pixels:, :]) >= mask_percentage * total_mask_area:\n",
    "        return True\n",
    "    \n",
    "    # Check left edge\n",
    "    if np.sum(mask[:, :edge_pixels]) >= mask_percentage * total_mask_area:\n",
    "        return True\n",
    "    \n",
    "    # Check right edge\n",
    "    if np.sum(mask[:, -edge_pixels:]) >= mask_percentage * total_mask_area:\n",
    "        return True\n",
    "    \n",
    "    return False"
   ]
  },
  {
   "cell_type": "code",
   "execution_count": null,
   "metadata": {},
   "outputs": [],
   "source": [
    "def find_polygons(r, x, y, eps = 0.02):\n",
    "    \"\"\"\n",
    "    Find polygons from instance segmentation results.\n",
    "\n",
    "    Args:\n",
    "        r (dict): Result dictionary containing masks and bounding boxes.\n",
    "        x (int): X-coordinate shift.\n",
    "        y (int): Y-coordinate shift.\n",
    "        eps (float, optional): Epsilon value for polygon approximation. \n",
    "            Controls the precision of the approximation. Default is 0.02.\n",
    "\n",
    "    Returns:\n",
    "        polygons (list): List of Shapely Polygon objects representing objects.\n",
    "    \"\"\"\n",
    "    masks = r['masks']\n",
    "    bboxes = r['rois']\n",
    "    n = bboxes.shape[0]\n",
    "    polygons = []\n",
    "    \n",
    "    for i in range(n):\n",
    "        mask = masks[:, :, i]\n",
    "        mask = mask.astype(np.uint8)\n",
    "\n",
    "        # Ignore incomplete building masks on sides of images\n",
    "        if is_mask_on_edge(mask, 0.2, 0.5):\n",
    "            continue\n",
    "        \n",
    "        contours, _ = cv2.findContours(mask, cv2.RETR_EXTERNAL, cv2.CHAIN_APPROX_SIMPLE)\n",
    "        \n",
    "        for contour in contours:\n",
    "            epsilon = eps * cv2.arcLength(contour, True)\n",
    "            approx = cv2.approxPolyDP(contour, epsilon, closed=False)\n",
    "            \n",
    "            shifted_polygon = np.array(approx) + np.array([x, y])\n",
    "            \n",
    "            # Convert the shifted_polygon to a GeoDataFrame Polygon\n",
    "            poly_coords = [(point[0][0], point[0][1]) for point in shifted_polygon]\n",
    "            if len(poly_coords) >= 4:\n",
    "                polygon = Polygon(poly_coords)\n",
    "                polygons.append(polygon)\n",
    "            \n",
    "    return polygons"
   ]
  },
  {
   "cell_type": "code",
   "execution_count": null,
   "metadata": {},
   "outputs": [],
   "source": [
    "def draw_polygons_on_image(image, output_dir, file_name, polygons, x, y, masks=None, show_mask=False):\n",
    "    \"\"\"\n",
    "    Draw polygons on an image and save the result.\n",
    "\n",
    "    Args:\n",
    "        image (numpy.ndarray): Input image as NumPy array.\n",
    "        output_dir (str): Directory to save the output image.\n",
    "        file_name (str): Name of the output image file.\n",
    "        polygons (list): List of Shapely Polygon objects representing objects.\n",
    "        masks (numpy.ndarray): Binary masks (optional, for masking regions).\n",
    "        show_mask (bool): Whether to apply masks to the image before drawing.\n",
    "        x,y: pixel size by which polygons have to shifted\n",
    "\n",
    "    Returns:\n",
    "        None\n",
    "    \"\"\"\n",
    "    if not os.path.exists(output_dir):\n",
    "        os.makedirs(output_dir)\n",
    "\n",
    "    image = Image.fromarray(image)\n",
    "    image_width, image_height = image.size\n",
    "    \n",
    "    if show_mask and masks is not None:\n",
    "        N = masks.shape[2]\n",
    "        colors = visualize.random_colors(N)\n",
    "        for i in range(N):\n",
    "            mask = masks[:, :, i]\n",
    "            if is_mask_on_edge(mask, 0.2, 0.7):\n",
    "                image = visualize.apply_mask(np.array(image), mask, colors[i])\n",
    "                image = Image.fromarray(image)\n",
    "    \n",
    "    draw = ImageDraw.Draw(image)\n",
    "    for polygon in polygons:\n",
    "        if isinstance(polygon, MultiPolygon):\n",
    "            for sub_polygon in polygon.geoms:\n",
    "                coords = list(sub_polygon.exterior.coords)\n",
    "                coords = [(coord[0] - x, coord[1] - y) for coord in coords]\n",
    "                draw.polygon(coords, outline=(255, 0, 0), width=6) \n",
    "        else:\n",
    "            coords = list(polygon.exterior.coords)\n",
    "            coords = [(coord[0] - x, coord[1] - y) for coord in coords]\n",
    "            draw.polygon(coords, outline=(255, 0, 0), width=6)\n",
    "            \n",
    "    image.save(os.path.join(output_dir, file_name))"
   ]
  },
  {
   "cell_type": "code",
   "execution_count": null,
   "metadata": {},
   "outputs": [],
   "source": [
    "def apply_patch_overlap_adjustment(polygons, prev_polygons, overlap_threshold):\n",
    "    adjusted_polygons = []\n",
    "    for polygon in polygons:\n",
    "        if not any(polygon.intersection(prev_poly).area >= overlap_threshold * polygon.area for prev_poly in prev_polygons):\n",
    "            adjusted_polygons.append(polygon)\n",
    "    return adjusted_polygons"
   ]
  },
  {
   "cell_type": "code",
   "execution_count": null,
   "metadata": {},
   "outputs": [],
   "source": [
    "def process_patches_with_overlap_adjustment(image_path, patches, model_inference, step, overlap_threshold, output_shp_path):\n",
    "    image = Image.open(image_path)\n",
    "    image_width, image_height = image.size\n",
    "    draw = ImageDraw.Draw(image)\n",
    "\n",
    "    # Extract CRS from the TIFF image\n",
    "    with rasterio.open(image_path) as src:\n",
    "        transform = src.transform\n",
    "        crs = src.crs\n",
    "    \n",
    "    patch_polygons = [[[] for _ in range(patches.shape[1])] for _ in range(patches.shape[0])]\n",
    "    \n",
    "    # Create a list to store all polygons for the shapefile\n",
    "    all_polygons = []\n",
    "\n",
    "    for i in range(patches.shape[0]):\n",
    "        for j in range(patches.shape[1]):\n",
    "            patch = patches[i, j, 0, :, :, :3]\n",
    "            r = model_inference.detect([patch])[0]\n",
    "            polygons = find_polygons(r, j * step, i * step)\n",
    "            \n",
    "            if i > 0:\n",
    "                prev_row_polygons = patch_polygons[i - 1][j]\n",
    "                polygons = apply_patch_overlap_adjustment(polygons, prev_row_polygons, overlap_threshold)\n",
    "            \n",
    "            if j > 0:\n",
    "                prev_col_polygons = patch_polygons[i][j - 1]\n",
    "                polygons = apply_patch_overlap_adjustment(polygons, prev_col_polygons, overlap_threshold)\n",
    "            \n",
    "            if j > 0:\n",
    "                prev_row_polygons = patch_polygons[i - 1][j - 1]\n",
    "                polygons = apply_patch_overlap_adjustment(polygons, prev_row_polygons, overlap_threshold)\n",
    "            \n",
    "            if j < patches.shape[1]-1:\n",
    "                prev_row_polygons = patch_polygons[i - 1][j + 1]\n",
    "                polygons = apply_patch_overlap_adjustment(polygons, prev_row_polygons, overlap_threshold)\n",
    "            \n",
    "            patch_polygons[i][j] = polygons\n",
    "\n",
    "            # Append the adjusted polygons to the all_polygons list\n",
    "            all_polygons.extend(polygons)\n",
    "            \n",
    "            # for polygon in polygons:\n",
    "            #     if isinstance(polygon, MultiPolygon):\n",
    "            #         for sub_polygon in polygon.geoms:\n",
    "            #             coords = list(sub_polygon.exterior.coords)\n",
    "            #             draw.polygon(coords, outline=(255, 0, 0), width=6) \n",
    "            #     else:\n",
    "            #         coords = list(polygon.exterior.coords)\n",
    "            #         draw.polygon(coords, outline=(255, 0, 0), width=6)\n",
    "            # print(len(polygons))\n",
    "            # draw_polygons_on_image(patch, \"../Dataset/output\", \"patch_\"+str(i)+\"_\"+str(j)+\".png\", polygons, j*step, i*step)\n",
    "            print(f\"Patch {i},{j} completed\")\n",
    "\n",
    "    transformed_polygons = []\n",
    "    for polygon in all_polygons:\n",
    "        points = []\n",
    "        for point in polygon.exterior.coords:\n",
    "            x, y = point\n",
    "            lon, lat = transform * (x + 0.5, y + 0.5)\n",
    "            points.append((lon, lat))\n",
    "        transformed_polygons.append(Polygon(points))\n",
    "\n",
    "\n",
    "    # Create a GeoDataFrame from the list of polygons\n",
    "    geometry = gpd.GeoSeries(transformed_polygons)\n",
    "    print(len(all_polygons))\n",
    "    gdf = gpd.GeoDataFrame(geometry=geometry, crs=crs)  # You might need to adjust the CRS\n",
    "    \n",
    "    # Save the GeoDataFrame as a shapefile\n",
    "    gdf.to_file(output_shp_path)\n",
    "    \n",
    "    # return image"
   ]
  },
  {
   "cell_type": "code",
   "execution_count": null,
   "metadata": {},
   "outputs": [],
   "source": [
    "overlap_threshold = 0.5  # Adjust this threshold as needed\n",
    "image_path = \"../Dataset/test_files/Chowtakuntapalli_ORTHO_H1.tif\"  # Path to your test image\n",
    "patch_size = (1024, 1024, 3)  # Adjust this to the desired patch size and channel count\n",
    "step = 512"
   ]
  },
  {
   "cell_type": "code",
   "execution_count": null,
   "metadata": {},
   "outputs": [],
   "source": [
    "patches, padded_image = extract_patches(image_path, patch_size, step)\n",
    "print(f\"Number of patches: {patches.shape[0] * patches.shape[1]}\")\n",
    "print(f\"Shape of a single patch: {patches[0, 0, 0].shape}\")"
   ]
  },
  {
   "cell_type": "code",
   "execution_count": null,
   "metadata": {},
   "outputs": [],
   "source": [
    "save_patches(patches, \"../Dataset/patches\")"
   ]
  },
  {
   "cell_type": "code",
   "execution_count": null,
   "metadata": {},
   "outputs": [],
   "source": [
    "output_shp_path = \"../shp_files/output_shp.shp\"\n",
    "process_patches_with_overlap_adjustment(image_path, patches, model_inference, step, overlap_threshold, output_shp_path)"
   ]
  },
  {
   "cell_type": "code",
   "execution_count": null,
   "metadata": {},
   "outputs": [],
   "source": [
    "# output_image = process_patches_with_overlap_adjustment(image_path, patches, model_inference, step, overlap_threshold)\n",
    "# output_image.save(\"output.png\")"
   ]
  },
  {
   "cell_type": "code",
   "execution_count": null,
   "metadata": {},
   "outputs": [],
   "source": [
    "input_folder = \"../Dataset/test_files3/\"\n",
    "output_folder = \"../results\"\n",
    "\n",
    "if not os.path.exists(output_folder):\n",
    "    os.makedirs(output_folder)\n",
    "\n",
    "for tif_folder in os.listdir(input_folder):\n",
    "    geotiff_folder = os.path.join(input_folder, tif_folder)\n",
    "    geotiff_folder = os.path.join(geotiff_folder, \"GeoTiff\")\n",
    "    curr_output_folder = os.path.join(output_folder, tif_folder)\n",
    "    if not os.path.exists(curr_output_folder):\n",
    "        os.makedirs(curr_output_folder)\n",
    "\n",
    "    for filename in os.listdir(geotiff_folder):    \n",
    "        if filename.endswith(\".tif\"):\n",
    "            input_path = os.path.join(geotiff_folder, filename)\n",
    "            print(\"working on\", filename)\n",
    "\n",
    "            inside_folder = os.path.join(curr_output_folder, f\"{filename[:-4]}\")\n",
    "            if not os.path.exists(inside_folder):\n",
    "                os.makedirs(inside_folder)\n",
    "                \n",
    "            output_path = os.path.join(inside_folder, f\"output_{filename[:-4]}\"+\".shp\")\n",
    "            print(output_path)\n",
    "            if os.path.exists(output_path):\n",
    "                continue\n",
    "            patches, padded_image = extract_patches(input_path, patch_size, step)\n",
    "            # output_image = process_patches_with_overlap_adjustment(input_path, patches, model_inference, step, overlap_threshold)\n",
    "            \n",
    "            # output_image.save(output_path)\n",
    "            process_patches_with_overlap_adjustment(input_path, patches, model_inference, step, overlap_threshold, output_path)"
   ]
  }
 ],
 "metadata": {
  "kernelspec": {
   "display_name": "mrcnn_kernel",
   "language": "python",
   "name": "mrcnn_kernel"
  },
  "language_info": {
   "codemirror_mode": {
    "name": "ipython",
    "version": 3
   },
   "file_extension": ".py",
   "mimetype": "text/x-python",
   "name": "python",
   "nbconvert_exporter": "python",
   "pygments_lexer": "ipython3",
   "version": "3.8.0"
  },
  "orig_nbformat": 4
 },
 "nbformat": 4,
 "nbformat_minor": 2
}
