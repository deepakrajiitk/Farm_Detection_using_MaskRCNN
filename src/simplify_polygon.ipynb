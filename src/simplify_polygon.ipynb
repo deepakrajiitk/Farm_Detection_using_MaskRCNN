{
 "cells": [
  {
   "cell_type": "code",
   "execution_count": 21,
   "metadata": {},
   "outputs": [],
   "source": [
    "import geopandas as gpd\n",
    "from shapely.geometry import Polygon\n",
    "import numpy as np\n",
    "import math\n",
    "import topojson as tp\n",
    "import pandas as pd"
   ]
  },
  {
   "cell_type": "code",
   "execution_count": 23,
   "metadata": {},
   "outputs": [],
   "source": [
    "def calculate_min_angle_in_degrees(polygon):\n",
    "    # Extract the exterior ring of the polygon\n",
    "    exterior = polygon.exterior\n",
    "    # Get the coordinates of the vertices\n",
    "    coords = list(exterior.coords)\n",
    "    \n",
    "    # Calculate the angles between consecutive edges\n",
    "    angles = []\n",
    "    for i in range(len(coords) - 2):\n",
    "        v1 = (coords[i][0] - coords[i+1][0], coords[i][1] - coords[i+1][1])\n",
    "        v2 = (coords[i+2][0] - coords[i+1][0], coords[i+2][1] - coords[i+1][1])\n",
    "        dot_product = v1[0] * v2[0] + v1[1] * v2[1]\n",
    "        magnitude_product = (v1[0]**2 + v1[1]**2) * (v2[0]**2 + v2[1]**2)\n",
    "        angle_rad = math.acos(dot_product / math.sqrt(magnitude_product))\n",
    "        angle_deg = math.degrees(angle_rad)  # Convert radians to degrees\n",
    "        angles.append(angle_deg)\n",
    "    \n",
    "    # Find the minimum angle in degrees\n",
    "    min_angle_deg = min(angles)\n",
    "    \n",
    "    return min_angle_deg"
   ]
  },
  {
   "cell_type": "code",
   "execution_count": 1,
   "metadata": {},
   "outputs": [],
   "source": [
    "def simplify_polygons(gdf, area_threshold = 3, epsilon1 = 5, epsilon2 = 5, angle_threshold = 65):\n",
    "    \"\"\"\n",
    "    Simplify polygons within a GeoDataFrame based on specified criteria.\n",
    "\n",
    "    Parameters:\n",
    "    - gdf (GeoDataFrame): The input GeoDataFrame containing the polygons you want to simplify.\n",
    "    - area_threshold (float): The threshold area value. Polygons with an area greater than or equal to this threshold will be retained in the simplified result.\n",
    "    - epsilon1 (float): The first tolerance parameter used for simplification. It controls the maximum allowable deviation between the original polygon's boundary and the simplified boundary in the first simplification step.\n",
    "    - epsilon2 (float): The second tolerance parameter used for further simplification, especially in areas where epsilon1 might not have sufficiently simplified the polygon.\n",
    "    - angle_threshold (float): The threshold angle in degrees used to split the input GeoDataFrame into two parts: one part with angles below this threshold and another part with angles equal to or above the threshold.\n",
    "\n",
    "    Returns:\n",
    "    - filtered_gdf (GeoDataFrame): A new GeoDataFrame containing the simplified polygons based on the specified criteria, including the area threshold and epsilon values.\n",
    "    \"\"\"\n",
    "    # Calculate the minimum angle and split the GeoDataFrame\n",
    "    gdf['min_angle'] = gdf['geometry'].apply(calculate_min_angle_in_degrees)\n",
    "    gdf_below_threshold = gdf[gdf['min_angle'] < angle_threshold]\n",
    "    gdf_above_threshold = gdf[gdf['min_angle'] >= angle_threshold]\n",
    "\n",
    "    # Simplify polygons using topology library\n",
    "    if(len(gdf_above_threshold)):\n",
    "        topo = tp.Topology(gdf_above_threshold)\n",
    "        gdf_above_threshold = topo.toposimplify(epsilon=0.3).to_gdf()\n",
    "\n",
    "    if(len(gdf_below_threshold)):\n",
    "        topo = tp.Topology(gdf_below_threshold)\n",
    "        gdf_below_threshold = topo.toposimplify(epsilon=epsilon1, simplify_algorithm='vw', simplify_with='simplification', prevent_oversimplify=True).toposimplify(epsilon=epsilon2).to_gdf()\n",
    "\n",
    "    # Combine the simplified and original GeoDataFrames\n",
    "    combined_gdf = pd.concat([gdf_below_threshold, gdf_above_threshold], ignore_index=True)\n",
    "\n",
    "    # Calculate the area of each polygon and add it as a new column\n",
    "    combined_gdf['area'] = combined_gdf['geometry'].area\n",
    "\n",
    "    # Filter the GeoDataFrame based on the area threshold\n",
    "    filtered_gdf = combined_gdf[combined_gdf['area'] >= area_threshold]\n",
    "\n",
    "    return filtered_gdf"
   ]
  },
  {
   "cell_type": "code",
   "execution_count": null,
   "metadata": {},
   "outputs": [],
   "source": [
    "dataset_path = \"results/\"\n",
    "for place in os.listdir(dataset_path):\n",
    "    place_path = os.path.join(dataset_path, place)\n",
    "    if(os.path.isdir(place_path)):\n",
    "        for subfolder in os.listdir(place_path):\n",
    "            subfolder_path = os.path.join(place_path, subfolder)\n",
    "            if(os.path.isdir(subfolder_path)):\n",
    "                for file in os.listdir(subfolder_path):\n",
    "                    file_path = os.path.join(subfolder_path, file)\n",
    "                    if(file.endswith('.shp')) and not file.startswith('simplified'):\n",
    "                        print(file_path)\n",
    "                        gdf = gpd.read_file(file_path)\n",
    "                        try:\n",
    "                            filtered_gdf = simplify_polygons(gdf)\n",
    "                            output_path = os.path.join(subfolder_path, \"simplified_\"+file)\n",
    "                            filtered_gdf.to_file(output_path)\n",
    "                        except Exception as e:\n",
    "                            print(f\"Error processing {file_path}: {e}\")"
   ]
  }
 ],
 "metadata": {
  "kernelspec": {
   "display_name": "mrcnn_kernel",
   "language": "python",
   "name": "mrcnn_kernel"
  },
  "orig_nbformat": 4
 },
 "nbformat": 4,
 "nbformat_minor": 2
}
